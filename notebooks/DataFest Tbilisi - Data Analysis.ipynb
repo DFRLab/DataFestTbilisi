{
 "cells": [
  {
   "cell_type": "markdown",
   "metadata": {},
   "source": [
    "<h1 class='text-center'><strong><code>Introduction to data analysis</code></strong></h1>\n",
    "<h1 class='text-center'><strong><code>using open-source command-line tools and python</code></strong></h1>"
   ]
  },
  {
   "cell_type": "markdown",
   "metadata": {},
   "source": [
    "![](https://www.atlanticcouncil.org/wp-content/uploads/2019/09/09.18.19-DFRLab-Logo-web-card-500x350.png)"
   ]
  },
  {
   "cell_type": "markdown",
   "metadata": {},
   "source": [
    "### `Table of contents`"
   ]
  },
  {
   "cell_type": "markdown",
   "metadata": {},
   "source": [
    "- > [**Introduction to Dataframes and Series**](#Introduction-to-Dataframes-and-Series)\n",
    "- > [**Loading datasets**](#Loading-datasets)\n",
    "- > [**Dataframes and Series attributes**](#Dataframes-and-Series-attributes)\n",
    "    - identify columns in dataset\n",
    "    - data types `-->` dtypes\n",
    "    - access data, indexing, and filtering (`isnull`, `notnull`, `==`, `!=`, `>=`, `<=`)\n",
    "    - functions `-->` head, tail, mean, sum, describe, unique, value_counts, map, apply\n",
    "    - creating new columns\n",
    "    - grouping data `-->` groupby\n",
    "        - aggreagations `-->` agg\n",
    "    - sorting values\n",
    "    - data cleansing `-->` fillna, replace, rename\n",
    "    - combining dataframes `-->` concat, merge, join\n",
    "- > [**Saving datasets**](#Saving-datasets)\n",
    "    - e.g., csv, excel\n",
    "- > [**Charts `-->` `matplotlib`**](#Charts)\n",
    "    - bar\n",
    "    - hist\n",
    "    - line `-->` pandas DatetimeIndex\n",
    "    - scatter\n",
    "- > [**Using `networkx` module to create a network**](#Social-network-analysis)\n",
    "    - build data `-->` nodes and interactions\n",
    "    - convert dataframe into nodes and edges\n",
    "    - create graph\n",
    "        - get degree centrality"
   ]
  },
  {
   "cell_type": "markdown",
   "metadata": {},
   "source": [
    "---"
   ]
  },
  {
   "cell_type": "markdown",
   "metadata": {},
   "source": [
    "#### *`import modules`*"
   ]
  },
  {
   "cell_type": "code",
   "execution_count": null,
   "metadata": {},
   "outputs": [],
   "source": [
    "# import pandas library\n",
    "import pandas as pd"
   ]
  },
  {
   "cell_type": "code",
   "execution_count": null,
   "metadata": {},
   "outputs": [],
   "source": []
  },
  {
   "cell_type": "code",
   "execution_count": null,
   "metadata": {},
   "outputs": [],
   "source": []
  },
  {
   "cell_type": "markdown",
   "metadata": {},
   "source": [
    "#### *`Introduction to Dataframes and Series`*"
   ]
  },
  {
   "cell_type": "code",
   "execution_count": null,
   "metadata": {},
   "outputs": [],
   "source": []
  },
  {
   "cell_type": "code",
   "execution_count": null,
   "metadata": {},
   "outputs": [],
   "source": []
  },
  {
   "cell_type": "markdown",
   "metadata": {},
   "source": [
    "#### *`Loading datasets`*"
   ]
  },
  {
   "cell_type": "code",
   "execution_count": null,
   "metadata": {},
   "outputs": [],
   "source": []
  },
  {
   "cell_type": "code",
   "execution_count": null,
   "metadata": {},
   "outputs": [],
   "source": []
  },
  {
   "cell_type": "markdown",
   "metadata": {},
   "source": [
    "#### *`Dataframes and Series attributes`*"
   ]
  },
  {
   "cell_type": "code",
   "execution_count": null,
   "metadata": {},
   "outputs": [],
   "source": []
  },
  {
   "cell_type": "code",
   "execution_count": null,
   "metadata": {},
   "outputs": [],
   "source": []
  },
  {
   "cell_type": "markdown",
   "metadata": {},
   "source": [
    "#### *`Saving datasets`*"
   ]
  },
  {
   "cell_type": "code",
   "execution_count": null,
   "metadata": {},
   "outputs": [],
   "source": []
  },
  {
   "cell_type": "code",
   "execution_count": null,
   "metadata": {},
   "outputs": [],
   "source": []
  },
  {
   "cell_type": "markdown",
   "metadata": {},
   "source": [
    "#### *`Charts`*"
   ]
  },
  {
   "cell_type": "code",
   "execution_count": null,
   "metadata": {},
   "outputs": [],
   "source": [
    "# import matplotlib library\n",
    "import matplotlib\n",
    "import matplotlib.pyplot as plt\n",
    "\n",
    "%matplotlib inline"
   ]
  },
  {
   "cell_type": "code",
   "execution_count": null,
   "metadata": {},
   "outputs": [],
   "source": []
  },
  {
   "cell_type": "code",
   "execution_count": null,
   "metadata": {},
   "outputs": [],
   "source": []
  },
  {
   "cell_type": "markdown",
   "metadata": {},
   "source": [
    "#### *`Social network analysis`*"
   ]
  },
  {
   "cell_type": "code",
   "execution_count": null,
   "metadata": {},
   "outputs": [],
   "source": [
    "# import networkx library\n",
    "import networkx as nx"
   ]
  },
  {
   "cell_type": "code",
   "execution_count": null,
   "metadata": {},
   "outputs": [],
   "source": []
  },
  {
   "cell_type": "code",
   "execution_count": null,
   "metadata": {},
   "outputs": [],
   "source": []
  }
 ],
 "metadata": {
  "kernelspec": {
   "display_name": "Python 3",
   "language": "python",
   "name": "python3"
  },
  "language_info": {
   "codemirror_mode": {
    "name": "ipython",
    "version": 3
   },
   "file_extension": ".py",
   "mimetype": "text/x-python",
   "name": "python",
   "nbconvert_exporter": "python",
   "pygments_lexer": "ipython3",
   "version": "3.7.3"
  }
 },
 "nbformat": 4,
 "nbformat_minor": 2
}
